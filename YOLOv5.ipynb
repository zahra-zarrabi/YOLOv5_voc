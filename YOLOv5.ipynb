{
  "nbformat": 4,
  "nbformat_minor": 0,
  "metadata": {
    "colab": {
      "name": "YOLOv5",
      "provenance": [],
      "collapsed_sections": [],
      "include_colab_link": true
    },
    "kernelspec": {
      "name": "python3",
      "display_name": "Python 3"
    },
    "accelerator": "GPU"
  },
  "cells": [
    {
      "cell_type": "markdown",
      "metadata": {
        "id": "view-in-github",
        "colab_type": "text"
      },
      "source": [
        "<a href=\"https://colab.research.google.com/github/zahra-zarrabi/YOLOv5_voc/blob/master/YOLOv5.ipynb\" target=\"_parent\"><img src=\"https://colab.research.google.com/assets/colab-badge.svg\" alt=\"Open In Colab\"/></a>"
      ]
    },
    {
      "cell_type": "markdown",
      "source": [
        "# Install requirements"
      ],
      "metadata": {
        "id": "xeM_nNdiFxjb"
      }
    },
    {
      "cell_type": "code",
      "metadata": {
        "id": "wbvMlHd_QwMG",
        "colab": {
          "base_uri": "https://localhost:8080/"
        },
        "outputId": "79167f32-015e-4108-9029-f762c60ba403"
      },
      "source": [
        "!git clone https://github.com/zahra-zarrabi/YOLOv5_voc.git  # clone\n",
        "%cd YOLOv5_voc\n",
        "%pip install -qr requirements.txt  # install\n",
        "\n",
        "import torch\n",
        "from YOLOv5_voc import utils\n",
        "display = utils.notebook_init()  # checks"
      ],
      "execution_count": 2,
      "outputs": [
        {
          "output_type": "stream",
          "name": "stderr",
          "text": [
            "YOLOv5 🚀 2a7c552 torch 1.10.0+cu111 CUDA:0 (Tesla K80, 11441MiB)\n"
          ]
        },
        {
          "output_type": "stream",
          "name": "stdout",
          "text": [
            "Setup complete ✅ (2 CPUs, 12.7 GB RAM, 45.8/78.2 GB disk)\n"
          ]
        }
      ]
    },
    {
      "cell_type": "code",
      "source": [
        "import gdown\n",
        "gdown.download('https://drive.google.com/uc?id=1VP1QSkEW2HjDZk_DHpYBwo5Nz-rSohRC','custom.pt')"
      ],
      "metadata": {
        "id": "-ahGeaXYXRRO"
      },
      "execution_count": null,
      "outputs": []
    },
    {
      "cell_type": "markdown",
      "source": [
        "**download video**"
      ],
      "metadata": {
        "id": "n0yNbUzT8Z6Q"
      }
    },
    {
      "cell_type": "code",
      "source": [
        "gdown.download('https://drive.google.com/uc?id=1koIv-8J2BkCP_4Dd2eGMJdzfLPNDhTxr','video.mp4')"
      ],
      "metadata": {
        "id": "oaN7fwGR8iwd"
      },
      "execution_count": null,
      "outputs": []
    },
    {
      "cell_type": "markdown",
      "metadata": {
        "id": "4JnkELT0cIJg"
      },
      "source": [
        "# Inference time of torch model"
      ]
    },
    {
      "cell_type": "code",
      "metadata": {
        "id": "zR9ZbuQCH7FX"
      },
      "source": [
        "!python detect.py --weights yolov5m.pt --img 640 --conf 0.25 --source video.mp4"
      ],
      "execution_count": null,
      "outputs": []
    },
    {
      "cell_type": "markdown",
      "source": [
        "# Convert torch model into TensorRT model"
      ],
      "metadata": {
        "id": "wXZMMnEWGF1A"
      }
    },
    {
      "cell_type": "code",
      "metadata": {
        "id": "VTRwsvA9u7ln"
      },
      "source": [
        "!pip install -U nvidia-tensorrt --index-url https://pypi.ngc.nvidia.com  # install\n",
        "!python export.py --weights yolov5m.pt --include engine --imgsz 640 640 --device 0 # export"
      ],
      "execution_count": null,
      "outputs": []
    },
    {
      "cell_type": "markdown",
      "source": [
        "# Inference time of TensorRT model"
      ],
      "metadata": {
        "id": "fZ0LNMYwGTzR"
      }
    },
    {
      "cell_type": "code",
      "source": [
        "!python detect.py --weights custom.engine --imgsz 640 640 --device 0  --conf 0.25 --source video.mp4 # inference"
      ],
      "metadata": {
        "id": "FUD7AB3Iw0Co"
      },
      "execution_count": null,
      "outputs": []
    }
  ]
}